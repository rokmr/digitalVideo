{
  "nbformat": 4,
  "nbformat_minor": 0,
  "metadata": {
    "colab": {
      "provenance": [],
      "authorship_tag": "ABX9TyPqqpPtg5wOXEyteUQ8G8yc",
      "include_colab_link": true
    },
    "kernelspec": {
      "name": "python3",
      "display_name": "Python 3"
    },
    "language_info": {
      "name": "python"
    }
  },
  "cells": [
    {
      "cell_type": "markdown",
      "metadata": {
        "id": "view-in-github",
        "colab_type": "text"
      },
      "source": [
        "<a href=\"https://colab.research.google.com/github/rokmr/digitalVideo/blob/main/opticalFlow.ipynb\" target=\"_parent\"><img src=\"https://colab.research.google.com/assets/colab-badge.svg\" alt=\"Open In Colab\"/></a>"
      ]
    },
    {
      "cell_type": "code",
      "execution_count": 51,
      "metadata": {
        "id": "yyka5E5AbdJ7"
      },
      "outputs": [],
      "source": [
        "import os\n",
        "import cv2\n",
        "import glob\n",
        "import numpy as np\n",
        "import imageio.v2 as imageio\n",
        "import matplotlib.image\n",
        "from pyoptflow import HornSchunck\n",
        "from matplotlib import pyplot as plt\n",
        "from typing import List\n",
        "from scipy.ndimage import morphology\n",
        "from tqdm import tqdm\n",
        "import torch\n",
        "from torchmetrics.image.lpip import LearnedPerceptualImagePatchSimilarity"
      ]
    },
    {
      "cell_type": "code",
      "source": [
        "class IntermediateFrame():\n",
        "  def __init__(self, I0, I1, t, u, v):\n",
        "    self.I0 = I0\n",
        "    self.I0_gray = np.dot(I0,[0.2989,0.5870,0.1140])\n",
        "    self.I1 = I1\n",
        "    self.I1_gray = np.dot(I1,[0.2989,0.5870,0.1140])\n",
        "    self.t = t\n",
        "    self.output = np.zeros_like(self.I0)\n",
        "    self.m , self.n, self.o  = I0.shape\n",
        "    self.y, self.x = np.float32(np.meshgrid(np.arange(self.n),np.arange(self.m)))\n",
        "\n",
        "    # Claculation of forward optical flow\n",
        "    self.u, self.v = u, v\n",
        "\n",
        "    # Claculation of intermediate optical flow for any time t\n",
        "    xt, yt = np.round(np.float32(self.x+t*self.u)).astype(\"uint32\"),np.round(np.float32(self.y+t*self.v)).astype(\"uint32\")\n",
        "\n",
        "    self.Ut_x = np.zeros_like(self.I0_gray, dtype = np.float32)\n",
        "    self.Ut_y = np.zeros_like(self.I0_gray, dtype = np.float32)\n",
        "\n",
        "    minIntensity = np.zeros_like(self.I0_gray, dtype = np.float32)\n",
        "    min_y = np.zeros_like(self.I0_gray, dtype = np.float32)\n",
        "    mapped = np.zeros_like(self.I0_gray)\n",
        "\n",
        "    for i in range(self.m):\n",
        "      for j in range(self.n):\n",
        "\n",
        "        k, l = xt[i,j], yt[i,j]\n",
        "        if 0 <= k and k < self.m and 0 <= l and l < self.n:\n",
        "          mapped[k,l] = 1\n",
        "          diff = abs(self.I0_gray[i,j] - self.I1_gray[k,l])\n",
        "\n",
        "          if not self.Ut_x[k,l] or not self.Ut_y[k,l]:\n",
        "            self.Ut_x[k,l] = self.u[i,j]\n",
        "            self.Ut_y[k,l] = self.v[i,j]\n",
        "\n",
        "          else:\n",
        "            if diff < minIntensity[k,l]:\n",
        "              self.Ut_x[k,l] = self.u[i,j]\n",
        "              self.Ut_y[k,l] = self.v[i,j]\n",
        "              minIntensty[k,l] = diff\n",
        "\n",
        "    # Outside In Strategy\n",
        "    nonMapped = np.where(mapped==0)\n",
        "    for i, j in zip(*nonMapped):\n",
        "        if 0 < i and i < self.m-1 and 0 < j and j < self.n-1:\n",
        "          neighbourhoodx = self.Ut_x[i - 1:i + 2, j - 1:j + 2]\n",
        "          max_valuex = np.max(neighbourhoodx)\n",
        "          self.Ut_x[i, j] = max_valuex\n",
        "\n",
        "          neighbourhoody = self.Ut_y[i - 1:i + 2, j - 1:j + 2]\n",
        "          max_valuey = np.max(neighbourhoody)\n",
        "          self.Ut_y[i, j] = max_valuey\n",
        "\n",
        "    # Occlusion Mask\n",
        "    self.O0 = np.zeros_like(self.I0_gray).astype(\"uint8\")\n",
        "    self.O1 = np.ones_like(self.I0_gray).astype(\"uint8\")\n",
        "    xt1, yt1 = np.round(np.float32(self.x+self.u)).astype(\"uint32\"),np.round(np.float32(self.y+self.v)).astype(\"uint32\")\n",
        "    for i in range(self.m):\n",
        "      for j in range(self.n):\n",
        "        k,l = xt1[i,j], yt1[i,j]\n",
        "        if 0 <= k and k < self.m and 0 <= l and l < self.n:\n",
        "          if np.sqrt((self.u[i,j] - self.Ut_x[k,l])**2 + (self.v[i,j] - self.Ut_y[k,l])**2) >0.5:\n",
        "            self.O0[i,j]=1\n",
        "          self.O1[k][l] = 0\n",
        "\n",
        "    # Dilating Occlusion Mask\n",
        "    kernel = np.ones((3,3),np.uint8)\n",
        "    self.dilation_O0 = cv2.dilate(self.O0,kernel,iterations = 1)\n",
        "    self.dilation_O1 = cv2.dilate(self.O1,kernel,iterations = 1)\n",
        "\n",
        "    # Reconstruction of Frame\n",
        "    X0_x, X0_y = np.uint(self.x - self.t * self.Ut_x) , np.uint(self.y - self.t * self.Ut_x)\n",
        "    X1_x, X1_y = np.uint(self.x + (1 - self.t) *self.t * self.Ut_y), np.uint(self.y + (1 - self.t) *self.t * self.Ut_y)\n",
        "\n",
        "    for i in range(self.m):\n",
        "      for j in range(self.n):\n",
        "        x0,y0=X0_x[i,j],X0_y[i,j]\n",
        "        x1,y1=X1_x[i,j],X1_y[i,j]\n",
        "        if self.dilation_O1[x1,y1]==1:\n",
        "          self.output[i,j] = self.I0[x0,y0]\n",
        "        elif self.dilation_O1[x1,y1]==0 and self.dilation_O0[x0,y0]==1:\n",
        "          self.output[i,j] = self.I1[x1,y1]\n",
        "        else:\n",
        "          self.output[i,j] = (1-self.t)*self.I0[x0,y0] + (self.t)*self.I1[x1,y1]"
      ],
      "metadata": {
        "id": "9rnRCxz7dKGo"
      },
      "execution_count": 5,
      "outputs": []
    },
    {
      "cell_type": "markdown",
      "source": [
        "# Multi-Scale Optical Flow"
      ],
      "metadata": {
        "id": "i-AYqZh3l_Vv"
      }
    },
    {
      "cell_type": "code",
      "source": [
        "class multiScaleDiscrete_HSOF():\n",
        "  def __init__(self, Img0, Img1, numScale:int):\n",
        "    self.I0list = [Img0[::2**i, ::2**i] for i in range(numScale)]\n",
        "    self.I1list = [Img1[::2**i, ::2**i] for i in range(numScale)]\n",
        "    self.numScale = numScale\n",
        "    self.U, self.V = HornSchunck(np.dot(self.I0list[-1],[0.2989,0.5870,0.1140]), np.dot(self.I1list[-1],[0.2989,0.5870,0.1140]), alpha=1, Niter=100)\n",
        "    self.u, self.v = 0, 0\n",
        "\n",
        "    # def process(self):\n",
        "    for i in reversed(range(self.numScale-1)):\n",
        "      U_u = cv2.resize(2*self.U, None, fx=2, fy=2, interpolation=cv2.INTER_LINEAR)\n",
        "      U_v = cv2.resize(2*self.V, None, fx=2, fy=2, interpolation=cv2.INTER_LINEAR)\n",
        "\n",
        "      wr = self.image_warping(np.dot(self.I0list[i],[0.2989,0.5870,0.1140]), U_u, U_v)\n",
        "      self.u, self.v= HornSchunck(np.dot(self.I1list[i],[0.2989,0.5870,0.1140]), wr, alpha=1, Niter=100)\n",
        "      self.U, self.V = U_u + self.u , U_v + self.v\n",
        "\n",
        "  def image_warping(self,frame0,a,b):\n",
        "    x,y=np.float32(np.meshgrid(np.arange(frame0.shape[1]),np.arange(frame0.shape[0])))\n",
        "    x1,y1=np.float32(x+a),np.float32(y+b)\n",
        "    warped_image=cv2.remap(frame0,x1,y1,interpolation=cv2.INTER_CUBIC)\n",
        "    return warped_image"
      ],
      "metadata": {
        "id": "WYKsnASFmF2n"
      },
      "execution_count": 27,
      "outputs": []
    },
    {
      "cell_type": "markdown",
      "source": [
        "# Reconstruction of Video"
      ],
      "metadata": {
        "id": "txI7rEl-bfdy"
      }
    },
    {
      "cell_type": "code",
      "source": [
        "class repeatingFrame():\n",
        "  def __init__(self, frameFolder:str, frameType:str, K:List, desFolder:str):\n",
        "    self.frameFolder = frameFolder\n",
        "    self.K = K\n",
        "    self.framesPath = frameFolder+ \"/*.\" + frameType\n",
        "    self.pathList = glob.glob(self.framesPath)\n",
        "    self.pathList.sort()\n",
        "    self.frameList = [cv2.imread(framePath) for framePath in self.pathList]\n",
        "    self.l = len(self.frameList)\n",
        "    self.Task = \"notComplete\"\n",
        "\n",
        "    if not os.path.exists(desFolder+f\"/videos\"):\n",
        "      os.makedirs(desFolder+f\"/videos\")\n",
        "\n",
        "    for k in self.K:\n",
        "      if not os.path.exists(desFolder+f\"/repeatedframe/{k}\"):\n",
        "            os.makedirs(desFolder+f\"/repeatedframe/{k}\")\n",
        "\n",
        "      self.newFrameList = []\n",
        "      for j, frame in enumerate(self.frameList):\n",
        "\n",
        "        if j % k == 0:\n",
        "          self.newFrameList.extend([frame] * k)\n",
        "\n",
        "      self.Shape = self.newFrameList[0].shape\n",
        "      fourcc = cv2.VideoWriter_fourcc(*'mp4v')  # Codec for MP4 format\n",
        "      video_writer = cv2.VideoWriter(f\"{desFolder}/videos/output_repeatingFrame_{k}.mp4\", fourcc, 15, (self.Shape[1], self.Shape[0]))\n",
        "\n",
        "      for idx, frame in enumerate(self.newFrameList[:self.l]):\n",
        "        cv2.imwrite(desFolder+f\"/repeatedframe/{k}/{idx}.png\", frame*255)\n",
        "        video_writer.write(frame.astype(\"uint8\"))\n",
        "\n",
        "      video_writer.release()\n",
        "\n",
        "    self.Task = \"Completed\""
      ],
      "metadata": {
        "id": "mvpwEo2Lbw4O"
      },
      "execution_count": 36,
      "outputs": []
    },
    {
      "cell_type": "code",
      "source": [
        "RV1 = repeatingFrame(\"./00001/rgb\",\"png\", [1,2,3,4],\"./00001\")"
      ],
      "metadata": {
        "id": "jWikg1Zfbw1X"
      },
      "execution_count": 37,
      "outputs": []
    },
    {
      "cell_type": "code",
      "source": [
        "RV6 = repeatingFrame(\"./00006/rgb\",\"png\", [1,2,3,4],\"./00006\")"
      ],
      "metadata": {
        "id": "RGI-ttWcfS4r"
      },
      "execution_count": 38,
      "outputs": []
    },
    {
      "cell_type": "code",
      "source": [
        "def multiInterpolated(frameFolder, desFolder:str, K:List, s:int):\n",
        "  pathList = glob.glob(frameFolder)\n",
        "  pathList.sort()\n",
        "  frameList = [cv2.imread(framePath) for framePath in pathList]\n",
        "\n",
        "  for k in tqdm(K):\n",
        "    if not os.path.exists(desFolder+f\"/{s+1}scale/{k}\"):\n",
        "        os.makedirs(desFolder+f\"/{s+1}scale/{k}\")\n",
        "\n",
        "    tempFrameList = []\n",
        "    for frame in frameList[::k]:\n",
        "          tempFrameList.append(frame)\n",
        "\n",
        "\n",
        "    newFrameList = []\n",
        "    for i in range(len(tempFrameList)-1):\n",
        "      newFrameList.append(tempFrameList[i])\n",
        "      for j in range(1,k):\n",
        "        M = multiScaleDiscrete_HSOF(tempFrameList[i],tempFrameList[i+1],s+1)\n",
        "        M.process()\n",
        "        U, V = M.U, M.V\n",
        "        IF = IntermediateFrame(tempFrameList[i],tempFrameList[i+1],(j+1)/k,U, V)\n",
        "        newFrameList.append(IF.output)\n",
        "\n",
        "    newFrameList.append(tempFrameList[-1])\n",
        "\n",
        "    Shape = newFrameList[0].shape\n",
        "    fourcc = cv2.VideoWriter_fourcc(*'mp4v')  # Codec for MP4 format\n",
        "    video_writer = cv2.VideoWriter(f\"{desFolder}/videos/scale{s+1}output_multiInterpolated_{k}.mp4\", fourcc, 15, (Shape[1], Shape[0]))\n",
        "\n",
        "    for idx, frame in enumerate(newFrameList):\n",
        "      cv2.imwrite(desFolder+f\"/{s+1}scale/{k}/{idx}.png\", frame*255)\n",
        "      video_writer.write(frame.astype())\n",
        "\n",
        "    video_writer.release()\n"
      ],
      "metadata": {
        "id": "Vr5uQafgt5Lt"
      },
      "execution_count": 8,
      "outputs": []
    },
    {
      "cell_type": "code",
      "source": [
        "class multiInterpolated(IntermediateFrame):\n",
        "  def __init__(self, frameFolder:str, frameType:str, desFolder:str, K:List, numscale:int):\n",
        "    self.frameFolder = frameFolder\n",
        "    self.K = K\n",
        "    self.numscale = numscale\n",
        "    self.framesPath = frameFolder+ \"/*.\" + frameType\n",
        "    self.pathList = glob.glob(self.framesPath)\n",
        "    self.pathList.sort()\n",
        "    self.frameList = [cv2.imread(framePath)/255 for framePath in self.pathList]\n",
        "    self.Task = \"notComplete\"\n",
        "\n",
        "    if not os.path.exists(desFolder+f\"/videos\"):\n",
        "      os.makedirs(desFolder+f\"/videos\")\n",
        "\n",
        "    for s in range(0, self.numscale):\n",
        "      for k in tqdm(self.K):\n",
        "        if not os.path.exists(desFolder+f\"/{s+1}scale/{k}\"):\n",
        "              os.makedirs(desFolder+f\"/{s+1}scale/{k}\")\n",
        "\n",
        "        self.tempFrameList = []\n",
        "        for frame in self.frameList[::k]:\n",
        "            self.tempFrameList.append(frame)\n",
        "\n",
        "        self.newFrameList = []\n",
        "        for i in range(len(self.tempFrameList)-1):\n",
        "          self.newFrameList.append(self.tempFrameList[i])\n",
        "          for j in range(1,k):\n",
        "            self.M = multiScaleDiscrete_HSOF(self.tempFrameList[i],self.tempFrameList[i+1],s+1)\n",
        "            self.U, self.V = self.M.U, self.M.V\n",
        "            self.IF = IntermediateFrame(self.tempFrameList[i],self.tempFrameList[i+1],j/k,self.U, self.V)\n",
        "            self.newFrameList.append(self.IF.output)\n",
        "\n",
        "        self.newFrameList.append(self.tempFrameList[len(self.tempFrameList)-1])\n",
        "\n",
        "\n",
        "        self.Shape = self.newFrameList[0].shape\n",
        "        fourcc = cv2.VideoWriter_fourcc(*'mp4v')  # Codec for MP4 format\n",
        "        video_writer = cv2.VideoWriter(f\"{desFolder}/videos/scale{s+1}output_multiInterpolated_{k}.mp4\", fourcc, 15, (self.Shape[1], self.Shape[0]))\n",
        "\n",
        "        for idx, frame in enumerate(self.newFrameList):\n",
        "          cv2.imwrite(desFolder+f\"/{s+1}scale/{k}/{idx}.png\", frame*255)\n",
        "          video_writer.write(frame.astype(\"uint8\"))\n",
        "\n",
        "        video_writer.release()\n",
        "\n",
        "    self.Task = \"Completed\"\n"
      ],
      "metadata": {
        "id": "IMJ7ZZTHbwys"
      },
      "execution_count": 42,
      "outputs": []
    },
    {
      "cell_type": "code",
      "source": [
        "MM1 = multiInterpolated(\"./00001/rgb\",\"png\",\"./00001\", [2,3,4], 2)"
      ],
      "metadata": {
        "colab": {
          "base_uri": "https://localhost:8080/"
        },
        "id": "Vd2PC2GcbwvT",
        "outputId": "5ff1e2a9-5820-4fed-f82f-ea7bf365f5ba"
      },
      "execution_count": 43,
      "outputs": [
        {
          "output_type": "stream",
          "name": "stderr",
          "text": [
            "100%|████████████████████████████████████████████████████████████████████████████████████████████████████████| 3/3 [22:53<00:00, 457.71s/it]\n",
            "100%|████████████████████████████████████████████████████████████████████████████████████████████████████████| 3/3 [24:22<00:00, 487.36s/it]\n"
          ]
        }
      ]
    },
    {
      "cell_type": "code",
      "source": [
        "MM1 = multiInterpolated(\"./00001/rgb\",\"png\",\"./00001\", [2,3,4], 2)"
      ],
      "metadata": {
        "id": "mKxiWq5cmDSm"
      },
      "execution_count": null,
      "outputs": []
    },
    {
      "cell_type": "code",
      "source": [
        "MM6 = multiInterpolated(\"./00006/rgb\",\"png\",\"./00006\", [2,3,4], 4)"
      ],
      "metadata": {
        "colab": {
          "base_uri": "https://localhost:8080/"
        },
        "id": "WFviqjbebwsX",
        "outputId": "9627f348-08ef-4006-be0b-0265220cd5d7"
      },
      "execution_count": 46,
      "outputs": [
        {
          "output_type": "stream",
          "name": "stderr",
          "text": [
            "100%|████████████████████████████████████████████████████████████████████████████████████████████████████████| 3/3 [22:48<00:00, 456.20s/it]\n",
            "100%|████████████████████████████████████████████████████████████████████████████████████████████████████████| 3/3 [24:15<00:00, 485.16s/it]\n",
            "100%|████████████████████████████████████████████████████████████████████████████████████████████████████████| 3/3 [24:34<00:00, 491.40s/it]\n",
            "100%|████████████████████████████████████████████████████████████████████████████████████████████████████████| 3/3 [24:33<00:00, 491.00s/it]\n"
          ]
        }
      ]
    },
    {
      "cell_type": "markdown",
      "source": [
        "# Numerical Performance"
      ],
      "metadata": {
        "id": "wS8aIYzcSX3r"
      }
    },
    {
      "cell_type": "code",
      "source": [
        "class PSNRCalculator:\n",
        "    def __init__(self, folder_path1, folder_path2, k):\n",
        "        self.folder_path1 = folder_path1\n",
        "        self.folder_path2 = folder_path2\n",
        "        self.k = k\n",
        "\n",
        "    @staticmethod\n",
        "    def calculate_psnr(image1, image2):\n",
        "        mse = np.mean((image1 - image2) ** 2)\n",
        "        if mse == 0:\n",
        "            return float('inf')\n",
        "        max_pixel = 255.0\n",
        "        psnr = 20 * np.log10(max_pixel / np.sqrt(mse))\n",
        "        return psnr\n",
        "\n",
        "    def remove_every_kth_item(self, my_list, k):\n",
        "      index = 0\n",
        "      while index < len(my_list):\n",
        "          del my_list[index]\n",
        "          index += k - 1\n",
        "\n",
        "    def calculate_average_psnr(self):\n",
        "        psnr_values = []\n",
        "        file_list1 = sorted(os.listdir(self.folder_path1))\n",
        "        file_list2 = sorted(os.listdir(self.folder_path2))\n",
        "        self.remove_every_kth_item(file_list1, self.k)\n",
        "        self.remove_every_kth_item(file_list2, self.k)\n",
        "\n",
        "        for file1, file2 in zip(file_list1, file_list2):\n",
        "            image_path1 = os.path.join(self.folder_path1, file1)\n",
        "            image_path2 = os.path.join(self.folder_path2, file2)\n",
        "\n",
        "            if os.path.isfile(image_path1) and os.path.isfile(image_path2):\n",
        "                img1 = cv2.imread(image_path1)\n",
        "                img2 = cv2.imread(image_path2)\n",
        "\n",
        "                if img1.shape == img2.shape:\n",
        "                    psnr = self.calculate_psnr(img1, img2)\n",
        "                    psnr_values.append(psnr)\n",
        "\n",
        "        if not psnr_values:\n",
        "            return 0.0\n",
        "\n",
        "        average_psnr = sum(psnr_values) / len(psnr_values)\n",
        "        return average_psnr"
      ],
      "metadata": {
        "id": "xkXPuslSxije"
      },
      "execution_count": 10,
      "outputs": []
    },
    {
      "cell_type": "code",
      "source": [
        "# Example usage:\n",
        "K = [2, 3, 4]\n",
        "PSNR_repeatedframe = []\n",
        "folder_path1 = \"/home/rohitk/DVPA/A1/00001/rgb\"\n",
        "folder_path2 = \"/home/rohitk/DVPA/A1/00001/1scale/\"\n",
        "for k in K:\n",
        "  psnr_calculator = PSNRCalculator(folder_path1, folder_path2+f\"{k}\", k)\n",
        "  average_psnr = psnr_calculator.calculate_average_psnr()\n",
        "  PSNR_repeatedframe.append(f\"{average_psnr:.4f}\")\n",
        "print(f\"Average PSNR: {PSNR_repeatedframe=}\")\n"
      ],
      "metadata": {
        "colab": {
          "base_uri": "https://localhost:8080/"
        },
        "id": "4phCbRf3gEL1",
        "outputId": "c38806d1-7dbd-4428-d36b-597dcff617af"
      },
      "execution_count": 11,
      "outputs": [
        {
          "output_type": "stream",
          "name": "stdout",
          "text": [
            "Average PSNR: PSNR_repeatedframe=['27.8967', '27.8949', '27.8948']\n"
          ]
        }
      ]
    },
    {
      "cell_type": "code",
      "source": [
        "refFolder_path1 = \"/home/rohitk/DVPA/A1/00001/rgb\"\n",
        "refFolder_path6 = \"/home/rohitk/DVPA/A1/00006/rgb\"\n",
        "\n",
        "def PSNR(calFolder_path:str, refFolder_path:str ):\n",
        "  K = [2, 3, 4]\n",
        "  PSNR_values = []\n",
        "  for k in K:\n",
        "    psnr_calculator = PSNRCalculator(refFolder_path, calFolder_path+f\"{k}\", k)\n",
        "    average_psnr = psnr_calculator.calculate_average_psnr()\n",
        "    PSNR_values.append(f\"{average_psnr:.3f}\")\n",
        "  return PSNR_values"
      ],
      "metadata": {
        "id": "N_iaO7NdT07T"
      },
      "execution_count": 12,
      "outputs": []
    },
    {
      "cell_type": "code",
      "source": [
        "# Repeated Frame\n",
        "PSNR_repeatedframe1 = PSNR(\"/home/rohitk/DVPA/A1/00001/repeatedframe/\", refFolder_path1)\n",
        "PSNR_repeatedframe6 = PSNR(\"/home/rohitk/DVPA/A1/00006/repeatedframe/\", refFolder_path6)\n",
        "\n",
        "# Scale 1: original\n",
        "PSNR_s1_1 =  PSNR(\"/home/rohitk/DVPA/A1/00001/1scale/\", refFolder_path1)\n",
        "PSNR_s1_6 =  PSNR(\"/home/rohitk/DVPA/A1/00006/1scale/\", refFolder_path6)\n",
        "\n",
        "# Scale 2: original + down scale by 2 once\n",
        "PSNR_s2_1 =  PSNR(\"/home/rohitk/DVPA/A1/00001/2scale/\", refFolder_path1)\n",
        "PSNR_s2_6 =  PSNR(\"/home/rohitk/DVPA/A1/00006/2scale/\", refFolder_path6)\n",
        "\n",
        "# Scale 3: original + down scale by 2 once + down scale by 2 twice\n",
        "PSNR_s3_1 =  PSNR(\"/home/rohitk/DVPA/A1/00001/3scale/\", refFolder_path1)\n",
        "PSNR_s3_6 =  PSNR(\"/home/rohitk/DVPA/A1/00006/3scale/\", refFolder_path6)\n",
        "\n",
        "# Scale 4: original + down scale by 2 once + down scale by 2 twice + down scale by 2 thrice\n",
        "PSNR_s4_1 =  PSNR(\"/home/rohitk/DVPA/A1/00001/4scale/\", refFolder_path1)\n",
        "PSNR_s4_6 =  PSNR(\"/home/rohitk/DVPA/A1/00006/4scale/\", refFolder_path6)\n"
      ],
      "metadata": {
        "id": "H1-KUc_1Vh-X"
      },
      "execution_count": 47,
      "outputs": []
    },
    {
      "cell_type": "code",
      "source": [
        "import pandas as pd\n",
        "data = {\n",
        "    'Checked': [\"Repeated frame\", \"Scale: 1\",  \"Scale: 2\",  \"Scale: 3\", \"Scale: 4\",],\n",
        "    'K=2': [str(PSNR_repeatedframe1[0]), str(PSNR_s1_1[0]), str(PSNR_s2_1[0]), str(PSNR_s3_1[0]),  str(PSNR_s4_1[0])],\n",
        "    'K=3': [str(PSNR_repeatedframe1[1]), str(PSNR_s1_1[1]), str(PSNR_s2_1[1]), str(PSNR_s3_1[1]),  str(PSNR_s4_1[1])],\n",
        "    'K=4': [str(PSNR_repeatedframe1[2]), str(PSNR_s1_1[2]), str(PSNR_s2_1[2]), str(PSNR_s3_1[2]),  str(PSNR_s4_1[2])]\n",
        "}\n",
        "\n",
        "df = pd.DataFrame(data)\n",
        "print(\"PSNR output for ImageFolder: 00001\")\n",
        "print(df)"
      ],
      "metadata": {
        "colab": {
          "base_uri": "https://localhost:8080/"
        },
        "id": "anzGb_wHdt11",
        "outputId": "60834484-63c1-4442-aa44-0f927a6b6d99"
      },
      "execution_count": 73,
      "outputs": [
        {
          "output_type": "stream",
          "name": "stdout",
          "text": [
            "PSNR output for ImageFolder: 00001\n",
            "          Checked     K=2     K=3     K=4\n",
            "0  Repeated frame  27.839  27.838  27.849\n",
            "1        Scale: 1  31.484  31.281  31.303\n",
            "2        Scale: 2  31.498  31.280  31.299\n",
            "3        Scale: 3  31.509  31.286  31.300\n",
            "4        Scale: 4  31.511  31.292  31.308\n"
          ]
        }
      ]
    },
    {
      "cell_type": "code",
      "source": [
        "import pandas as pd\n",
        "data = {\n",
        "    'Checked': [\"Repeated frame\", \"Scale: 1\",  \"Scale: 2\",  \"Scale: 3\", \"Scale: 4\",],\n",
        "    'K=2': [str(PSNR_repeatedframe6[0]), str(PSNR_s1_6[0]), str(PSNR_s2_6[0]), str(PSNR_s3_6[0]), str(PSNR_s4_6[0])],\n",
        "    'K=3': [str(PSNR_repeatedframe6[1]), str(PSNR_s1_6[1]), str(PSNR_s2_6[1]), str(PSNR_s3_6[1]), str(PSNR_s4_6[1])],\n",
        "    'K=4': [str(PSNR_repeatedframe6[2]), str(PSNR_s1_6[2]), str(PSNR_s2_6[2]), str(PSNR_s3_6[2]), str(PSNR_s4_6[2])]\n",
        "}\n",
        "\n",
        "df = pd.DataFrame(data)\n",
        "\n",
        "print(\"PSNR output for ImageFolder: 00006\")\n",
        "print(df)\n",
        "\n"
      ],
      "metadata": {
        "colab": {
          "base_uri": "https://localhost:8080/"
        },
        "id": "CzmzWgVCa4o1",
        "outputId": "b1dd8f89-d304-415b-e027-7467d4dd6577"
      },
      "execution_count": 49,
      "outputs": [
        {
          "output_type": "stream",
          "name": "stdout",
          "text": [
            "PSNR output for ImageFolder: 00006\n",
            "          Checked     K=2     K=3     K=4\n",
            "0  Repeated frame  27.975  27.972  27.975\n",
            "1        Scale: 1  29.629  29.518  29.525\n",
            "2        Scale: 2  29.624  29.511  29.517\n",
            "3        Scale: 3  29.620  29.509  29.518\n",
            "4        Scale: 4  29.614  29.511  29.524\n"
          ]
        }
      ]
    },
    {
      "cell_type": "code",
      "source": [
        "class LPIPSCalculator:\n",
        "    def __init__(self, folder_path1, folder_path2, k):\n",
        "        self.folder_path1 = folder_path1\n",
        "        self.folder_path2 = folder_path2\n",
        "        self.k = k\n",
        "        self.transform = transforms.ToTensor()\n",
        "        self.lpips = LearnedPerceptualImagePatchSimilarity(net_type='vgg')\n",
        "\n",
        "\n",
        "\n",
        "    def calculate_average_lpips(self):\n",
        "        lpips_values = []\n",
        "        file_list1 = sorted(os.listdir(self.folder_path1))\n",
        "        file_list2 = sorted(os.listdir(self.folder_path2))\n",
        "\n",
        "\n",
        "        for file1, file2 in zip(file_list1, file_list2):\n",
        "            image_path1 = os.path.join(self.folder_path1, file1)\n",
        "            image_path2 = os.path.join(self.folder_path2, file2)\n",
        "\n",
        "            if os.path.isfile(image_path1) and os.path.isfile(image_path2):\n",
        "                img1 = Image.open(image_path1)\n",
        "                img2 = Image.open(image_path2)\n",
        "\n",
        "                lpips = self.lpips(self.transform(img1).unsqueeze(0), self.transform(img2).unsqueeze(0))\n",
        "\n",
        "                lpips_values.append(lpips)\n",
        "\n",
        "        if not lpips_values:\n",
        "            return 0.0\n",
        "\n",
        "        average_psnr = sum(lpips_values) / len(lpips_values)\n",
        "        return average_psnr"
      ],
      "metadata": {
        "id": "4RfKfwZ-uQdQ"
      },
      "execution_count": 64,
      "outputs": []
    },
    {
      "cell_type": "code",
      "source": [
        "refFolder_path1 = \"/home/rohitk/DVPA/A1/00001/rgb\"\n",
        "refFolder_path6 = \"/home/rohitk/DVPA/A1/00006/rgb\"\n",
        "\n",
        "def LPIPS(calFolder_path:str, refFolder_path:str ):\n",
        "  K = [2, 3, 4]\n",
        "  LPIPS_values = []\n",
        "  for k in K:\n",
        "    lpips_calculator = LPIPSCalculator(refFolder_path, calFolder_path+f\"{k}\", k)\n",
        "    average_lpips = lpips_calculator.calculate_average_lpips()\n",
        "    LPIPS_values.append(f\"{average_lpips:.3f}\")\n",
        "  return LPIPS_values"
      ],
      "metadata": {
        "id": "J0HMK1qbupRB"
      },
      "execution_count": 65,
      "outputs": []
    },
    {
      "cell_type": "code",
      "source": [
        "import torchvision.transforms as transforms\n",
        "from PIL import Image"
      ],
      "metadata": {
        "id": "yqcDXIHZwKdb"
      },
      "execution_count": 61,
      "outputs": []
    },
    {
      "cell_type": "code",
      "source": [
        "# Repeated Frame\n",
        "LPIPS_repeatedframe1 = LPIPS(\"/home/rohitk/DVPA/A1/00001/repeatedframe/\", refFolder_path1)\n",
        "LPIPS_repeatedframe6 = LPIPS(\"/home/rohitk/DVPA/A1/00006/repeatedframe/\", refFolder_path6)\n",
        "\n",
        "# Scale 1: original\n",
        "LPIPS_s1_1 =  LPIPS(\"/home/rohitk/DVPA/A1/00001/1scale/\", refFolder_path1)\n",
        "LPIPS_s1_6 =  LPIPS(\"/home/rohitk/DVPA/A1/00006/1scale/\", refFolder_path6)\n",
        "\n",
        "# Scale 2: original + down scale by 2 once\n",
        "LPIPS_s2_1 =  LPIPS(\"/home/rohitk/DVPA/A1/00001/2scale/\", refFolder_path1)\n",
        "LPIPS_s2_6 =  LPIPS(\"/home/rohitk/DVPA/A1/00006/2scale/\", refFolder_path6)\n",
        "\n",
        "# Scale 3: original + down scale by 2 once + down scale by 2 twice\n",
        "LPIPS_s3_1 =  LPIPS(\"/home/rohitk/DVPA/A1/00001/3scale/\", refFolder_path1)\n",
        "LPIPS_s3_6 =  LPIPS(\"/home/rohitk/DVPA/A1/00006/3scale/\", refFolder_path6)\n",
        "\n",
        "# Scale 4: original + down scale by 2 once + down scale by 2 twice + down scale by 2 thrice\n",
        "LPIPS_s4_1 =  LPIPS(\"/home/rohitk/DVPA/A1/00001/4scale/\", refFolder_path1)\n",
        "LPIPS_s4_6 =  LPIPS(\"/home/rohitk/DVPA/A1/00006/4scale/\", refFolder_path6)\n"
      ],
      "metadata": {
        "colab": {
          "base_uri": "https://localhost:8080/"
        },
        "id": "5yb803QwvmJ4",
        "outputId": "c62bc947-51ed-4404-f083-b91eb2c6df4e"
      },
      "execution_count": 66,
      "outputs": [
        {
          "output_type": "stream",
          "name": "stderr",
          "text": [
            "Downloading: \"https://download.pytorch.org/models/vgg16-397923af.pth\" to /home/rohitk/.cache/torch/hub/checkpoints/vgg16-397923af.pth\n",
            "100%|████████████████████████████████████████████████████████████████████████████████████████████████████| 528M/528M [00:06<00:00, 87.4MB/s]\n"
          ]
        }
      ]
    },
    {
      "cell_type": "code",
      "source": [
        "import pandas as pd\n",
        "data = {\n",
        "    'Checked': [\"Repeated frame\", \"Scale: 1\",  \"Scale: 2\",  \"Scale: 3\", \"Scale: 4\",],\n",
        "    'K=2': [str(LPIPS_repeatedframe1[0]), str(LPIPS_s1_1[0]), str(LPIPS_s2_1[0]), str(LPIPS_s3_1[0]),  str(LPIPS_s4_1[0])],\n",
        "    'K=3': [str(LPIPS_repeatedframe1[1]), str(LPIPS_s1_1[1]), str(LPIPS_s2_1[1]), str(LPIPS_s3_1[1]),  str(LPIPS_s4_1[1])],\n",
        "    'K=4': [str(LPIPS_repeatedframe1[2]), str(LPIPS_s1_1[2]), str(LPIPS_s2_1[2]), str(LPIPS_s3_1[2]),  str(LPIPS_s4_1[2])]\n",
        "}\n",
        "\n",
        "df = pd.DataFrame(data)\n",
        "print(\"LPIPS output for ImageFolder: 00001\")\n",
        "print(df)"
      ],
      "metadata": {
        "colab": {
          "base_uri": "https://localhost:8080/"
        },
        "id": "svg5d7hgwfwC",
        "outputId": "653bc96c-216f-4da5-9b15-919cff71fcf8"
      },
      "execution_count": 69,
      "outputs": [
        {
          "output_type": "stream",
          "name": "stdout",
          "text": [
            "LPIPS output for ImageFolder: 00001\n",
            "          Checked    K=2    K=3    K=4\n",
            "0  Repeated frame  0.615  0.612  0.608\n",
            "1        Scale: 1  0.268  0.270  0.272\n",
            "2        Scale: 2  0.267  0.269  0.270\n",
            "3        Scale: 3  0.265  0.266  0.266\n",
            "4        Scale: 4  0.265  0.267  0.267\n"
          ]
        }
      ]
    },
    {
      "cell_type": "code",
      "source": [
        "import pandas as pd\n",
        "data = {\n",
        "    'Checked': [\"Repeated frame\", \"Scale: 1\",  \"Scale: 2\",  \"Scale: 3\", \"Scale: 4\",],\n",
        "    'K=2': [str(LPIPS_repeatedframe6[0]), str(LPIPS_s1_6[0]), str(LPIPS_s2_6[0]), str(LPIPS_s3_6[0]), str(LPIPS_s4_6[0])],\n",
        "    'K=3': [str(LPIPS_repeatedframe6[1]), str(LPIPS_s1_6[1]), str(LPIPS_s2_6[1]), str(LPIPS_s3_6[1]), str(LPIPS_s4_6[1])],\n",
        "    'K=4': [str(LPIPS_repeatedframe6[2]), str(LPIPS_s1_6[2]), str(LPIPS_s2_6[2]), str(LPIPS_s3_6[2]), str(LPIPS_s4_6[2])]\n",
        "}\n",
        "\n",
        "df = pd.DataFrame(data)\n",
        "\n",
        "print(\"LPIPS output for ImageFolder: 00006\")\n",
        "print(df)"
      ],
      "metadata": {
        "colab": {
          "base_uri": "https://localhost:8080/"
        },
        "id": "26rkZrw7w-F6",
        "outputId": "6ebff207-dd90-4b15-d27b-f3eed73f47ee"
      },
      "execution_count": 72,
      "outputs": [
        {
          "output_type": "stream",
          "name": "stdout",
          "text": [
            "LPIPS output for ImageFolder: 00006\n",
            "          Checked    K=2    K=3    K=4\n",
            "0  Repeated frame  0.568  0.563  0.558\n",
            "1        Scale: 1  0.379  0.379  0.380\n",
            "2        Scale: 2  0.380  0.380  0.381\n",
            "3        Scale: 3  0.383  0.385  0.387\n",
            "4        Scale: 4  0.385  0.390  0.394\n"
          ]
        }
      ]
    }
  ]
}